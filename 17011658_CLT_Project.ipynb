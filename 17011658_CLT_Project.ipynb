{
 "cells": [
  {
   "cell_type": "markdown",
   "metadata": {},
   "source": [
    "# Probability and Statistics Programming"
   ]
  },
  {
   "cell_type": "markdown",
   "metadata": {},
   "source": [
    "## Project Title: Demonstrate the Central Limit Theorem"
   ]
  },
  {
   "cell_type": "markdown",
   "metadata": {},
   "source": [
    "### Objective: Reflecting the knowledge of sampling distribution"
   ]
  },
  {
   "cell_type": "markdown",
   "metadata": {},
   "source": [
    "#### Tasks Recommended:\n",
    "- A gray-scale image is a two-dimensional array of numbers, each of which represents the corresponding pixel intensity. You can obtain this array of numbers (i.e. image read) using various python packages.\n",
    "- Consider the supplied \"lena_gray.gif\" gray-scale image as the population. Based on the population, you need to implement the following tasks"
   ]
  },
  {
   "cell_type": "code",
   "execution_count": 8,
   "metadata": {
    "scrolled": true
   },
   "outputs": [],
   "source": [
    "import numpy as np\n",
    "import matplotlib.pyplot as plt\n",
    "import scipy.stats as sp\n",
    "from skimage import io\n",
    "\n",
    "image = io.imread(fname='lena_gray.gif')"
   ]
  },
  {
   "cell_type": "markdown",
   "metadata": {},
   "source": [
    "#### TASK1\n",
    "-  Find out the population size 𝑛, population mean (𝜇), population variance (𝜎^2), population range, minimum number, maximum number, population mode, and population median."
   ]
  },
  {
   "cell_type": "code",
   "execution_count": 4,
   "metadata": {},
   "outputs": [
    {
     "name": "stdout",
     "output_type": "stream",
     "text": [
      "population size : 512 * 512 = 262144\n",
      "population mean : 124.05046081542969\n",
      "population variance : 2289.9760151074734\n",
      "minimum number : 25\n",
      "maximum number : 245\n",
      "population range : 25 ~ 245\n",
      "population mode : 99\n",
      "population median : 129.0\n"
     ]
    }
   ],
   "source": [
    "p_size = image.shape[0]\n",
    "print(\"population size : %d * %d = %d\" %(p_size, p_size, p_size*p_size))\n",
    "\n",
    "print(\"population mean :\", np.mean(image))\n",
    "\n",
    "print(\"population variance :\", np.var(image))\n",
    "\n",
    "p_min = np.min(image)\n",
    "print(\"minimum number :\", p_min)\n",
    "\n",
    "p_max = np.max(image)\n",
    "print(\"maximum number :\", p_max)\n",
    "print(\"population range : %d ~ %d\" %(p_min, p_max))\n",
    "\n",
    "p_mode = sp.mode(image)\n",
    "print(\"population mode :\", p_mode[0][0][0])\n",
    "\n",
    "print(\"population median :\", np.median(image))"
   ]
  },
  {
   "cell_type": "markdown",
   "metadata": {},
   "source": [
    "#### TASK2\n",
    "- Find out the histogram of the population. Comment on the population distribution."
   ]
  },
  {
   "cell_type": "code",
   "execution_count": 14,
   "metadata": {},
   "outputs": [
    {
     "data": {
      "image/png": "[encoded data removed]",
      "text/plain": [
       "<Figure size 432x288 with 1 Axes>"
      ]
     },
     "metadata": {
      "needs_background": "light"
     },
     "output_type": "display_data"
    }
   ],
   "source": [
    "re_img = image.reshape(-1)\n",
    "re_img = np.sort(re_img)\n",
    "\n",
    "plt.title(\"Default Histogram\")\n",
    "plt.xlabel(\"Pixel Intensity\")\n",
    "plt.ylabel(\"Count\")\n",
    "plt.hist(re_img)\n",
    "plt.show()"
   ]
  },
  {
   "cell_type": "markdown",
   "metadata": {},
   "source": [
    "#### TASK3\n",
    "- Investigate the histogram by changing the number of bins to 10, 100, and 1,000. Provide your observations."
   ]
  },
  {
   "cell_type": "code",
   "execution_count": 22,
   "metadata": {},
   "outputs": [
    {
     "data": {
      "image/png": "[encoded data removed]",
      "text/plain": [
       "<Figure size 432x288 with 1 Axes>"
      ]
     },
     "metadata": {
      "needs_background": "light"
     },
     "output_type": "display_data"
    },
    {
     "data": {
      "image/png": "[encoded data removed]",
      "text/plain": [
       "<Figure size 432x288 with 1 Axes>"
      ]
     },
     "metadata": {
      "needs_background": "light"
     },
     "output_type": "display_data"
    },
    {
     "data": {
      "image/png": "[encoded data removed]",
      "text/plain": [
       "<Figure size 432x288 with 1 Axes>"
      ]
     },
     "metadata": {
      "needs_background": "light"
     },
     "output_type": "display_data"
    }
   ],
   "source": [
    "plt.title(\"Bin = 10\")\n",
    "plt.hist(re_img, bins=10)\n",
    "plt.show()\n",
    "\n",
    "plt.title(\"Bin = 100\")\n",
    "plt.hist(re_img, bins=100)\n",
    "plt.show()\n",
    "\n",
    "plt.title(\"Bin = 1000\")\n",
    "plt.hist(re_img, bins=1000)\n",
    "plt.show()"
   ]
  },
  {
   "cell_type": "markdown",
   "metadata": {},
   "source": [
    "#### TASK4\n",
    "- Demonstrate the central limit theorem (i.e., the distribution of the sampling mean will approach towards the normal distribution with the mean 𝜇 and variance 𝜎^2/𝑛 as the sample size increases). Recommended sample sizes are 5, 10, 20, 30, 50, 100. In addition to any content that you think appropriate for this demonstration, you will include various graphical representations such as the respective histogram for each sample size."
   ]
  },
  {
   "cell_type": "code",
   "execution_count": 23,
   "metadata": {},
   "outputs": [],
   "source": [
    "# sample size = 30\n",
    "\n",
    "np.random.rand(30) * (512*512)"
   ]
  },
  {
   "cell_type": "code",
   "execution_count": 24,
   "metadata": {},
   "outputs": [],
   "source": [
    "# sample size = 50"
   ]
  },
  {
   "cell_type": "code",
   "execution_count": null,
   "metadata": {},
   "outputs": [],
   "source": [
    "# sample size = 100"
   ]
  }
 ],
 "metadata": {
  "kernelspec": {
   "display_name": "Python 3",
   "language": "python",
   "name": "python3"
  },
  "language_info": {
   "codemirror_mode": {
    "name": "ipython",
    "version": 3
   },
   "file_extension": ".py",
   "mimetype": "text/x-python",
   "name": "python",
   "nbconvert_exporter": "python",
   "pygments_lexer": "ipython3",
   "version": "3.7.6"
  }
 },
 "nbformat": 4,
 "nbformat_minor": 4
}
